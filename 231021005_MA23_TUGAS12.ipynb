{
  "nbformat": 4,
  "nbformat_minor": 0,
  "metadata": {
    "colab": {
      "provenance": []
    },
    "kernelspec": {
      "name": "python3",
      "display_name": "Python 3"
    },
    "language_info": {
      "name": "python"
    }
  },
  "cells": [
    {
      "cell_type": "markdown",
      "source": [
        "(G)\n",
        "\n",
        "$x + 2y + 3z = 4$\n",
        "\n",
        "$5x + 6y + 7z = 8$\n",
        "\n",
        "$9x + 10y + 11z = 12$"
      ],
      "metadata": {
        "id": "IpQvV1Ncp-qS"
      }
    },
    {
      "cell_type": "code",
      "source": [
        "import numpy as np\n",
        "def  solusi(A,b):\n",
        "    if np.linalg.det(A) == 0:\n",
        "        print('solusi tidak ada')\n",
        "    else:\n",
        "        hasil = np.linalg.solve(A,b)\n",
        "        print('Nilai X=', hasil[0,0])\n",
        "        print('Nilai Y=', hasil[1,0])\n",
        "        print('Nilai Z=', hasil[2,0])\n",
        "\n",
        "A = np.array([[1,2,3],\n",
        "              [5,6,7],\n",
        "              [9,10,11]])\n",
        "\n",
        "b = np.array([[4],\n",
        "              [8],\n",
        "              [12]])\n",
        "\n",
        "hasil = solusi(A,b)"
      ],
      "metadata": {
        "colab": {
          "base_uri": "https://localhost:8080/"
        },
        "id": "qGzl7w53qCNs",
        "outputId": "b9cab51a-04cf-4923-fd48-675923b7f73e"
      },
      "execution_count": 2,
      "outputs": [
        {
          "output_type": "stream",
          "name": "stdout",
          "text": [
            "Nilai X= -0.7500000000000002\n",
            "Nilai Y= 0.5000000000000002\n",
            "Nilai Z= 1.25\n"
          ]
        }
      ]
    },
    {
      "cell_type": "markdown",
      "source": [
        "$(J)$\n",
        "\n",
        "$x_1 - x_2 + 2x_3 + x_4 = -1$\n",
        "\n",
        "$2x_1 + x_2 + x_3 - x_4 = 4$\n",
        "\n",
        "$x_1 + 2x_2 - x_3 - 2x_4 = 5$\n",
        "\n",
        "$x_1 + 0 + x_3 + 0 = 1$"
      ],
      "metadata": {
        "id": "AUFu4FFCqLqm"
      }
    },
    {
      "cell_type": "code",
      "source": [
        "import numpy as np\n",
        "def Solusi(C,D):\n",
        "    if np.linalg.det(C) == 0:\n",
        "        print('Tidak Menemukan Solusi')\n",
        "    else:\n",
        "        hasil = np.linalg.solve(C,D)\n",
        "        print('Nilai x_1=', hasil[0,0])\n",
        "        print('Nilai x_2=', hasil[1,0])\n",
        "        print('Nilai x_3=', hasil[2,0])\n",
        "        print('Nilai x_4=', hasil[3,0])\n",
        "        return\n",
        "\n",
        "C = np.array([[1,-1,2,1],\n",
        "             [2,1,1,-1],\n",
        "             [1,2,-1,-2],\n",
        "             [1,0,1,0]])\n",
        "\n",
        "D = np.array([[-1],\n",
        "            [4],\n",
        "            [5],\n",
        "            [1]])\n",
        "\n",
        "hasil = Solusi(C,D)"
      ],
      "metadata": {
        "colab": {
          "base_uri": "https://localhost:8080/"
        },
        "id": "oA0OkWSyqLVG",
        "outputId": "e8e6ed01-3e30-44ea-b3a6-c219b24b0d3a"
      },
      "execution_count": 4,
      "outputs": [
        {
          "output_type": "stream",
          "name": "stdout",
          "text": [
            "Tidak Menemukan Solusi\n"
          ]
        }
      ]
    },
    {
      "cell_type": "markdown",
      "source": [
        "$(Q)$\n",
        "\n",
        "$2x_1 + x_2 + 0 + x_4 + 2x_5 = 0$\n",
        "\n",
        "$x_1 + x_2 - x_3 + 0 + 0 = 0$\n",
        "\n",
        "$x_1 + x_2 + x_3 - 3x_4 + 2x_5 = 0$\n",
        "\n",
        "$2x_1 + 2x_2 - x_3 + 0 + x_5 = 0$\n",
        "\n",
        "$x_1 + x_2 + 0 + 0 + 0 = 5$"
      ],
      "metadata": {
        "id": "QB_NgxpcqpR0"
      }
    },
    {
      "cell_type": "code",
      "source": [
        "import numpy as np\n",
        "def Solusi(F,H):\n",
        "    if np.linalg.det(F) == 0:\n",
        "        print('Tidak Menemukan Solusi')\n",
        "    else:\n",
        "        hasil = np.linalg.solve(F,H)\n",
        "        print('Nilai x_1=', hasil[0,0])\n",
        "        print('Nilai x_2=', hasil[1,0])\n",
        "        print('Nilai x_3=', hasil[2,0])\n",
        "        print('Nilai x_4=', hasil[3,0])\n",
        "        print('Nilai x_5=', hasil[4,0])\n",
        "        return\n",
        "\n",
        "F = np.array([[2,1,0,1,2],\n",
        "             [1,1,-1,0,0],\n",
        "             [1,1,1,-3,2],\n",
        "             [2,2,-1,0,1],\n",
        "             [1,1,0,0,0]])\n",
        "\n",
        "H = np.array([[0],\n",
        "            [0],\n",
        "            [0],\n",
        "            [0],\n",
        "            [5]])\n",
        "\n",
        "hasil = Solusi(F,H)"
      ],
      "metadata": {
        "colab": {
          "base_uri": "https://localhost:8080/"
        },
        "id": "JqGHqjyqqlx7",
        "outputId": "af1b02d5-d8b8-4012-b5c6-68ce8c206851"
      },
      "execution_count": 5,
      "outputs": [
        {
          "output_type": "stream",
          "name": "stdout",
          "text": [
            "Nilai x_1= 5.0\n",
            "Nilai x_2= 0.0\n",
            "Nilai x_3= 5.0\n",
            "Nilai x_4= -0.0\n",
            "Nilai x_5= -5.0\n"
          ]
        }
      ]
    }
  ]
}